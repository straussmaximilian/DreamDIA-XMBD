{
 "cells": [
  {
   "cell_type": "markdown",
   "id": "surrounded-jordan",
   "metadata": {},
   "source": [
    "### 1. Import modules"
   ]
  },
  {
   "cell_type": "code",
   "execution_count": null,
   "id": "changing-prototype",
   "metadata": {},
   "outputs": [],
   "source": [
    "import os\n",
    "import os.path\n",
    "import re\n",
    "import pickle\n",
    "import random\n",
    "import numpy as np\n",
    "import pandas as pd\n",
    "import matplotlib.pyplot as plt\n",
    "import keras\n",
    "from keras import models\n",
    "from keras import layers\n",
    "import keras.backend as K\n",
    "from keras.models import load_model \n",
    "from keras.utils import to_categorical\n",
    "from sklearn.preprocessing import MinMaxScaler\n",
    "from sklearn.utils import shuffle\n",
    "from sklearn.utils import class_weight\n",
    "\n",
    "import tensorflow as tf"
   ]
  },
  {
   "cell_type": "markdown",
   "id": "accredited-glenn",
   "metadata": {},
   "source": [
    "### 2. Build model"
   ]
  },
  {
   "cell_type": "code",
   "execution_count": null,
   "id": "parliamentary-milwaukee",
   "metadata": {},
   "outputs": [],
   "source": [
    "N_XICs = 170  # specify the number of XICs for the RSM data here\n",
    "N_RTs = 12    # specify the RT cycles for the RSM data here\n",
    "\n",
    "def build_model(n_features, n_rt = 10):\n",
    "    model = models.Sequential()\n",
    "    model.add(layers.LSTM(128, dropout = 0.4, recurrent_dropout = 0.3, \n",
    "                          return_sequences = True, input_shape = (n_rt, n_features)))\n",
    "    model.add(layers.LSTM(64, dropout = 0.4, recurrent_dropout = 0.3, activation = \"relu\"))\n",
    "    model.add(layers.Dense(16, activation = \"relu\"))\n",
    "    model.add(layers.Dense(1, activation = \"sigmoid\"))\n",
    "    model.compile(optimizer = \"adam\", loss = \"binary_crossentropy\", metrics = [\"accuracy\"])\n",
    "    return model\n",
    "\n",
    "model = build_model(N_XICs, n_rt = N_RTs)"
   ]
  },
  {
   "cell_type": "markdown",
   "id": "incorrect-stretch",
   "metadata": {},
   "source": [
    "### 3. Import your own training data"
   ]
  },
  {
   "cell_type": "markdown",
   "id": "sought-namibia",
   "metadata": {},
   "source": [
    "* The training data should consist of two numpy array.\n",
    "* X: a numpy array with three dimensions, (Number of peptides, N_RTs, N_XICs).\n",
    "* y: a 1-d numpy array containing 1 as real peptide and 0 as decoy."
   ]
  },
  {
   "cell_type": "code",
   "execution_count": null,
   "id": "widespread-cache",
   "metadata": {},
   "outputs": [],
   "source": [
    "X, y = pickle.load(open(\"my_data.pkl\", \"rb\"))"
   ]
  },
  {
   "cell_type": "markdown",
   "id": "radical-fraud",
   "metadata": {},
   "source": [
    "### 4. Assign class weight"
   ]
  },
  {
   "cell_type": "markdown",
   "id": "collaborative-preservation",
   "metadata": {},
   "source": [
    "* This step is signicant especially for unbalanced-labeled data."
   ]
  },
  {
   "cell_type": "code",
   "execution_count": null,
   "id": "moderate-parallel",
   "metadata": {},
   "outputs": [],
   "source": [
    "my_class_weight = class_weight.compute_class_weight(\"balanced\", np.array([0, 1]), y)"
   ]
  },
  {
   "cell_type": "markdown",
   "id": "maritime-alexander",
   "metadata": {},
   "source": [
    "### 5. Train and validation"
   ]
  },
  {
   "cell_type": "code",
   "execution_count": null,
   "id": "preliminary-world",
   "metadata": {},
   "outputs": [],
   "source": [
    "history = model.fit(X, np.array(y), epochs = 100, batch_size = 1024, \n",
    "                    validation_split = 0.3, class_weight = {0 : my_class_weight[0], 1 : my_class_weight[1]})"
   ]
  },
  {
   "cell_type": "markdown",
   "id": "technical-egypt",
   "metadata": {},
   "source": [
    "### 6. Choose the best epoch and retrain the model"
   ]
  },
  {
   "cell_type": "code",
   "execution_count": null,
   "id": "hungry-financing",
   "metadata": {},
   "outputs": [],
   "source": [
    "best_epoch = 11 # specify the best epoch here\n",
    "\n",
    "model1 = build_model(N_XICs, n_rt = N_RTs)\n",
    "model1.fit(X, np.array(y), epochs = best_epoch, batch_size = 1024, class_weight = {0 : my_class_weight[0], 1 : my_class_weight[1]})"
   ]
  },
  {
   "cell_type": "markdown",
   "id": "fixed-relay",
   "metadata": {},
   "source": [
    "### 7. Save the model"
   ]
  },
  {
   "cell_type": "code",
   "execution_count": null,
   "id": "outside-picture",
   "metadata": {},
   "outputs": [],
   "source": [
    "model1.save(\"./models/My_own_model.h5\")\n",
    "\n",
    "intermediate_layer_model = models.Model(inputs = model1.input,outputs = model1.get_layer(\"dense_2\").output)\n",
    "intermediate_layer_model.save(\"./models/My_own_model.rep.h5\")"
   ]
  },
  {
   "cell_type": "markdown",
   "id": "anonymous-evanescence",
   "metadata": {},
   "source": [
    "### 8. Modify the model names in the `dream_score.py` script"
   ]
  },
  {
   "cell_type": "markdown",
   "id": "timely-watson",
   "metadata": {},
   "source": [
    "From:\n",
    "```python\n",
    "BM_model_file = os.path.join(os.path.dirname(sys.argv[0]), \"models/M2_170_12_11epochs_BM.h5\")\n",
    "```\n",
    "To:\n",
    "```python\n",
    "BM_model_file = os.path.join(os.path.dirname(sys.argv[0]), \"models/My_own_model.h5\")\n",
    "```\n",
    "&\n",
    "\n",
    "From:\n",
    "```python\n",
    "RM_model_file = os.path.join(os.path.dirname(sys.argv[0]), \"models/M2_170_12_11epochs_RM.h5\")\n",
    "```\n",
    "To:\n",
    "```python\n",
    "RM_model_file = os.path.join(os.path.dirname(sys.argv[0]), \"models/My_own_model.rep.h5\")\n",
    "```"
   ]
  },
  {
   "cell_type": "markdown",
   "id": "tropical-local",
   "metadata": {},
   "source": [
    "### 9. Run DreamDIA-XMBD with your own parameters"
   ]
  },
  {
   "cell_type": "markdown",
   "id": "committed-arena",
   "metadata": {},
   "source": [
    "* Run `DreamDIA-XMBD-v2.0.2/DreamDIA.py dreamscore --help` to see the parameters."
   ]
  }
 ],
 "metadata": {
  "kernelspec": {
   "display_name": "keras",
   "language": "python",
   "name": "keras"
  },
  "language_info": {
   "codemirror_mode": {
    "name": "ipython",
    "version": 3
   },
   "file_extension": ".py",
   "mimetype": "text/x-python",
   "name": "python",
   "nbconvert_exporter": "python",
   "pygments_lexer": "ipython3",
   "version": "3.8.8"
  }
 },
 "nbformat": 4,
 "nbformat_minor": 5
}
